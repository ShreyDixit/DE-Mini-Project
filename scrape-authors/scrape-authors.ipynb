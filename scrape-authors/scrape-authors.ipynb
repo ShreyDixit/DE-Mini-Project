{
 "cells": [
  {
   "cell_type": "markdown",
   "metadata": {},
   "source": [
    "# Author Scraping"
   ]
  },
  {
   "cell_type": "code",
   "execution_count": 1,
   "metadata": {},
   "outputs": [],
   "source": [
    "from bs4 import BeautifulSoup\n",
    "import pandas as pd"
   ]
  },
  {
   "cell_type": "markdown",
   "metadata": {},
   "source": [
    "## HAW"
   ]
  },
  {
   "cell_type": "code",
   "execution_count": 2,
   "metadata": {},
   "outputs": [],
   "source": [
    "with open(\"web pages/HAW Hamburg_ Employees.html\") as f:\n",
    "    soup = BeautifulSoup(f, 'html.parser')"
   ]
  },
  {
   "cell_type": "code",
   "execution_count": 3,
   "metadata": {},
   "outputs": [],
   "source": [
    "def extract_name(tag):\n",
    "    return \" \".join(tag.find_all(\"td\")[2].get_text().split())\n",
    "\n",
    "def extract_homepage(tag):\n",
    "    return tag.find_all(\"td\")[2].find(\"a\")[\"href\"]\n",
    "\n",
    "def extract_department(tag):\n",
    "    return \" \".join(tag.find_all(\"td\")[3].get_text().split())"
   ]
  },
  {
   "cell_type": "code",
   "execution_count": 4,
   "metadata": {},
   "outputs": [],
   "source": [
    "data_haw = []\n",
    "for row in soup.find(id=\"person_table__tbody\").find_all(\"tr\"):\n",
    "    name = extract_name(row)\n",
    "    homepage = extract_homepage(row)\n",
    "    department = extract_department(row)\n",
    "\n",
    "    data_haw.append([name, homepage, department])"
   ]
  },
  {
   "cell_type": "code",
   "execution_count": 5,
   "metadata": {},
   "outputs": [
    {
     "data": {
      "text/html": [
       "<div>\n",
       "<style scoped>\n",
       "    .dataframe tbody tr th:only-of-type {\n",
       "        vertical-align: middle;\n",
       "    }\n",
       "\n",
       "    .dataframe tbody tr th {\n",
       "        vertical-align: top;\n",
       "    }\n",
       "\n",
       "    .dataframe thead th {\n",
       "        text-align: right;\n",
       "    }\n",
       "</style>\n",
       "<table border=\"1\" class=\"dataframe\">\n",
       "  <thead>\n",
       "    <tr style=\"text-align: right;\">\n",
       "      <th></th>\n",
       "      <th>Name</th>\n",
       "      <th>Homepage</th>\n",
       "      <th>Department</th>\n",
       "    </tr>\n",
       "  </thead>\n",
       "  <tbody>\n",
       "    <tr>\n",
       "      <th>0</th>\n",
       "      <td>Johann Abrams</td>\n",
       "      <td>https://www.haw-hamburg.de/en/university/emplo...</td>\n",
       "      <td>Department Informatik</td>\n",
       "    </tr>\n",
       "    <tr>\n",
       "      <th>1</th>\n",
       "      <td>Christian Ahlf</td>\n",
       "      <td>https://www.haw-hamburg.de/en/university/emplo...</td>\n",
       "      <td>Department Informatik</td>\n",
       "    </tr>\n",
       "    <tr>\n",
       "      <th>2</th>\n",
       "      <td>Jakob Andersen</td>\n",
       "      <td>https://www.haw-hamburg.de/en/university/emplo...</td>\n",
       "      <td>Department Informatik Berliner Tor 7 20099 Ham...</td>\n",
       "    </tr>\n",
       "    <tr>\n",
       "      <th>3</th>\n",
       "      <td>Behnisch Awis</td>\n",
       "      <td>https://www.haw-hamburg.de/en/university/emplo...</td>\n",
       "      <td>Department Informatik</td>\n",
       "    </tr>\n",
       "    <tr>\n",
       "      <th>4</th>\n",
       "      <td>Prof. Dr. Reinhard Baran</td>\n",
       "      <td>https://www.haw-hamburg.de/en/university/emplo...</td>\n",
       "      <td>Department Informatik Berliner Tor 7, Room 7.8...</td>\n",
       "    </tr>\n",
       "  </tbody>\n",
       "</table>\n",
       "</div>"
      ],
      "text/plain": [
       "                       Name  \\\n",
       "0             Johann Abrams   \n",
       "1            Christian Ahlf   \n",
       "2            Jakob Andersen   \n",
       "3             Behnisch Awis   \n",
       "4  Prof. Dr. Reinhard Baran   \n",
       "\n",
       "                                            Homepage  \\\n",
       "0  https://www.haw-hamburg.de/en/university/emplo...   \n",
       "1  https://www.haw-hamburg.de/en/university/emplo...   \n",
       "2  https://www.haw-hamburg.de/en/university/emplo...   \n",
       "3  https://www.haw-hamburg.de/en/university/emplo...   \n",
       "4  https://www.haw-hamburg.de/en/university/emplo...   \n",
       "\n",
       "                                          Department  \n",
       "0                              Department Informatik  \n",
       "1                              Department Informatik  \n",
       "2  Department Informatik Berliner Tor 7 20099 Ham...  \n",
       "3                              Department Informatik  \n",
       "4  Department Informatik Berliner Tor 7, Room 7.8...  "
      ]
     },
     "execution_count": 5,
     "metadata": {},
     "output_type": "execute_result"
    }
   ],
   "source": [
    "data_haw = pd.DataFrame(data_haw, columns = [\"Name\", \"Homepage\", \"Department\"])\n",
    "data_haw.head()"
   ]
  },
  {
   "cell_type": "markdown",
   "metadata": {},
   "source": [
    "## UHH"
   ]
  },
  {
   "cell_type": "code",
   "execution_count": 6,
   "metadata": {},
   "outputs": [],
   "source": [
    "with open(\"web pages/Staff members of Department of Informatics _ Fachbereich Informatik _ Universität Hamburg.html\") as f:\n",
    "    soup = BeautifulSoup(f, 'html.parser')"
   ]
  },
  {
   "cell_type": "code",
   "execution_count": 7,
   "metadata": {},
   "outputs": [],
   "source": [
    "def extract_name(tag):\n",
    "    return \" \".join(tag.find_all(\"td\")[0].get_text().split())\n",
    "\n",
    "def extract_group(tag):\n",
    "    return tag.find_all(\"td\")[1].get_text()\n",
    "\n",
    "def extract_homepage(tag):\n",
    "    return tag.find_all(\"td\")[5].find(\"a\")[\"href\"] if tag.find_all(\"td\")[5].find(\"a\") else None"
   ]
  },
  {
   "cell_type": "code",
   "execution_count": 8,
   "metadata": {},
   "outputs": [],
   "source": [
    "data_uhh = []\n",
    "for row in soup.find_all(\"tr\"):\n",
    "    if not row.has_attr(\"data-initial\"):\n",
    "        continue\n",
    "    name = extract_name(row)\n",
    "    homepage = extract_homepage(row)\n",
    "    group = extract_group(row)\n",
    "\n",
    "    data_uhh.append([name, homepage, group])"
   ]
  },
  {
   "cell_type": "code",
   "execution_count": 9,
   "metadata": {},
   "outputs": [
    {
     "data": {
      "text/html": [
       "<div>\n",
       "<style scoped>\n",
       "    .dataframe tbody tr th:only-of-type {\n",
       "        vertical-align: middle;\n",
       "    }\n",
       "\n",
       "    .dataframe tbody tr th {\n",
       "        vertical-align: top;\n",
       "    }\n",
       "\n",
       "    .dataframe thead th {\n",
       "        text-align: right;\n",
       "    }\n",
       "</style>\n",
       "<table border=\"1\" class=\"dataframe\">\n",
       "  <thead>\n",
       "    <tr style=\"text-align: right;\">\n",
       "      <th></th>\n",
       "      <th>Name</th>\n",
       "      <th>Homepage</th>\n",
       "      <th>Department</th>\n",
       "    </tr>\n",
       "  </thead>\n",
       "  <tbody>\n",
       "    <tr>\n",
       "      <th>0</th>\n",
       "      <td>Fares Abawi</td>\n",
       "      <td>https://www.inf.uni-hamburg.de/en/inst/ab/wtm/...</td>\n",
       "      <td>WTM</td>\n",
       "    </tr>\n",
       "    <tr>\n",
       "      <th>1</th>\n",
       "      <td>Ashad Achgarnush</td>\n",
       "      <td>None</td>\n",
       "      <td>WISTS</td>\n",
       "    </tr>\n",
       "    <tr>\n",
       "      <th>2</th>\n",
       "      <td>Daniel Ahlers</td>\n",
       "      <td>https://tams.informatik.uni-hamburg.de/people/...</td>\n",
       "      <td>TAMS</td>\n",
       "    </tr>\n",
       "    <tr>\n",
       "      <th>3</th>\n",
       "      <td>Kyra Ahrens</td>\n",
       "      <td>https://www.inf.uni-hamburg.de/en/inst/ab/wtm/...</td>\n",
       "      <td>WTM</td>\n",
       "    </tr>\n",
       "    <tr>\n",
       "      <th>4</th>\n",
       "      <td>Dr. Philipp Allgeuer</td>\n",
       "      <td>None</td>\n",
       "      <td>WTM</td>\n",
       "    </tr>\n",
       "  </tbody>\n",
       "</table>\n",
       "</div>"
      ],
      "text/plain": [
       "                   Name                                           Homepage  \\\n",
       "0           Fares Abawi  https://www.inf.uni-hamburg.de/en/inst/ab/wtm/...   \n",
       "1      Ashad Achgarnush                                               None   \n",
       "2         Daniel Ahlers  https://tams.informatik.uni-hamburg.de/people/...   \n",
       "3           Kyra Ahrens  https://www.inf.uni-hamburg.de/en/inst/ab/wtm/...   \n",
       "4  Dr. Philipp Allgeuer                                               None   \n",
       "\n",
       "  Department  \n",
       "0        WTM  \n",
       "1      WISTS  \n",
       "2       TAMS  \n",
       "3        WTM  \n",
       "4        WTM  "
      ]
     },
     "execution_count": 9,
     "metadata": {},
     "output_type": "execute_result"
    }
   ],
   "source": [
    "data_uhh = pd.DataFrame(data_uhh, columns = [\"Name\", \"Homepage\", \"Department\"])\n",
    "data_uhh.head()"
   ]
  },
  {
   "cell_type": "markdown",
   "metadata": {},
   "source": [
    "## TUHH"
   ]
  },
  {
   "cell_type": "code",
   "execution_count": 10,
   "metadata": {},
   "outputs": [
    {
     "data": {
      "text/html": [
       "<div>\n",
       "<style scoped>\n",
       "    .dataframe tbody tr th:only-of-type {\n",
       "        vertical-align: middle;\n",
       "    }\n",
       "\n",
       "    .dataframe tbody tr th {\n",
       "        vertical-align: top;\n",
       "    }\n",
       "\n",
       "    .dataframe thead th {\n",
       "        text-align: right;\n",
       "    }\n",
       "</style>\n",
       "<table border=\"1\" class=\"dataframe\">\n",
       "  <thead>\n",
       "    <tr style=\"text-align: right;\">\n",
       "      <th></th>\n",
       "      <th>Name</th>\n",
       "      <th>Forschungsfelder</th>\n",
       "      <th>Institut</th>\n",
       "    </tr>\n",
       "  </thead>\n",
       "  <tbody>\n",
       "    <tr>\n",
       "      <th>0</th>\n",
       "      <td>Prof. Dr. Nihat Ay</td>\n",
       "      <td>Maschinenlernen</td>\n",
       "      <td>E-21</td>\n",
       "    </tr>\n",
       "    <tr>\n",
       "      <th>1</th>\n",
       "      <td>PD Dr. Brashant Batra</td>\n",
       "      <td>Komplexe Analysis, Robuste Steuerung</td>\n",
       "      <td>-</td>\n",
       "    </tr>\n",
       "    <tr>\n",
       "      <th>2</th>\n",
       "      <td>Prof. Dr. Matthias Mnich</td>\n",
       "      <td>Algorithmen, Datenstrukturen</td>\n",
       "      <td>E-11</td>\n",
       "    </tr>\n",
       "    <tr>\n",
       "      <th>3</th>\n",
       "      <td>Prof. Dr. Dieter Gollmann (em.)</td>\n",
       "      <td>Software- und Netzwerksicherheit</td>\n",
       "      <td>E-15</td>\n",
       "    </tr>\n",
       "    <tr>\n",
       "      <th>4</th>\n",
       "      <td>Prof. Dr. Siegfried Rump (em.)</td>\n",
       "      <td>Zuverlässiges Rechnen, Programmierung</td>\n",
       "      <td>E-19</td>\n",
       "    </tr>\n",
       "  </tbody>\n",
       "</table>\n",
       "</div>"
      ],
      "text/plain": [
       "                              Name                       Forschungsfelder  \\\n",
       "0               Prof. Dr. Nihat Ay                        Maschinenlernen   \n",
       "1            PD Dr. Brashant Batra   Komplexe Analysis, Robuste Steuerung   \n",
       "2         Prof. Dr. Matthias Mnich           Algorithmen, Datenstrukturen   \n",
       "3  Prof. Dr. Dieter Gollmann (em.)       Software- und Netzwerksicherheit   \n",
       "4   Prof. Dr. Siegfried Rump (em.)  Zuverlässiges Rechnen, Programmierung   \n",
       "\n",
       "  Institut  \n",
       "0     E-21  \n",
       "1        -  \n",
       "2     E-11  \n",
       "3     E-15  \n",
       "4     E-19  "
      ]
     },
     "execution_count": 10,
     "metadata": {},
     "output_type": "execute_result"
    }
   ],
   "source": [
    "data_tuhh = pd.read_csv(\"web pages/TUHH CS Team - Sheet1.csv\")\n",
    "data_tuhh.head()"
   ]
  },
  {
   "cell_type": "markdown",
   "metadata": {},
   "source": [
    "## HSU"
   ]
  },
  {
   "cell_type": "code",
   "execution_count": 11,
   "metadata": {},
   "outputs": [
    {
     "data": {
      "text/html": [
       "<div>\n",
       "<style scoped>\n",
       "    .dataframe tbody tr th:only-of-type {\n",
       "        vertical-align: middle;\n",
       "    }\n",
       "\n",
       "    .dataframe tbody tr th {\n",
       "        vertical-align: top;\n",
       "    }\n",
       "\n",
       "    .dataframe thead th {\n",
       "        text-align: right;\n",
       "    }\n",
       "</style>\n",
       "<table border=\"1\" class=\"dataframe\">\n",
       "  <thead>\n",
       "    <tr style=\"text-align: right;\">\n",
       "      <th></th>\n",
       "      <th>Name</th>\n",
       "      <th>Homepage</th>\n",
       "    </tr>\n",
       "  </thead>\n",
       "  <tbody>\n",
       "    <tr>\n",
       "      <th>0</th>\n",
       "      <td>Prof. Dr. phil. nat. Bernd Klauer</td>\n",
       "      <td>https://www.hsu-hh.de/ti/bernd-klauer</td>\n",
       "    </tr>\n",
       "    <tr>\n",
       "      <th>1</th>\n",
       "      <td>Marcel Eckert</td>\n",
       "      <td>https://www.hsu-hh.de/ti/akador-dr-ing-marcel-...</td>\n",
       "    </tr>\n",
       "    <tr>\n",
       "      <th>2</th>\n",
       "      <td>Dominik Meyer</td>\n",
       "      <td>https://www.hsu-hh.de/ti/dmeyer</td>\n",
       "    </tr>\n",
       "    <tr>\n",
       "      <th>3</th>\n",
       "      <td>Alexander Klemd</td>\n",
       "      <td>https://www.hsu-hh.de/ti/hptm-m-sc-alexander-k...</td>\n",
       "    </tr>\n",
       "    <tr>\n",
       "      <th>4</th>\n",
       "      <td>Christina Sander</td>\n",
       "      <td>https://www.hsu-hh.de/ti/christina-sander</td>\n",
       "    </tr>\n",
       "    <tr>\n",
       "      <th>5</th>\n",
       "      <td>Uwe Daube</td>\n",
       "      <td>https://www.hsu-hh.de/ti/uwe-daube</td>\n",
       "    </tr>\n",
       "  </tbody>\n",
       "</table>\n",
       "</div>"
      ],
      "text/plain": [
       "                                Name  \\\n",
       "0  Prof. Dr. phil. nat. Bernd Klauer   \n",
       "1                      Marcel Eckert   \n",
       "2                      Dominik Meyer   \n",
       "3                    Alexander Klemd   \n",
       "4                   Christina Sander   \n",
       "5                          Uwe Daube   \n",
       "\n",
       "                                            Homepage  \n",
       "0              https://www.hsu-hh.de/ti/bernd-klauer  \n",
       "1  https://www.hsu-hh.de/ti/akador-dr-ing-marcel-...  \n",
       "2                    https://www.hsu-hh.de/ti/dmeyer  \n",
       "3  https://www.hsu-hh.de/ti/hptm-m-sc-alexander-k...  \n",
       "4          https://www.hsu-hh.de/ti/christina-sander  \n",
       "5                 https://www.hsu-hh.de/ti/uwe-daube  "
      ]
     },
     "execution_count": 11,
     "metadata": {},
     "output_type": "execute_result"
    }
   ],
   "source": [
    "data_hsu = pd.read_csv(\"web pages/HSU CS Team - Sheet1.csv\")\n",
    "data_hsu"
   ]
  }
 ],
 "metadata": {
  "interpreter": {
   "hash": "78ea0f640d7ba82461c68eabb12a1cf14510fff2c8bf1b2902d34c8551bd83b1"
  },
  "kernelspec": {
   "display_name": "Python 3.8.8 ('base')",
   "language": "python",
   "name": "python3"
  },
  "language_info": {
   "codemirror_mode": {
    "name": "ipython",
    "version": 3
   },
   "file_extension": ".py",
   "mimetype": "text/x-python",
   "name": "python",
   "nbconvert_exporter": "python",
   "pygments_lexer": "ipython3",
   "version": "3.8.8"
  },
  "orig_nbformat": 4
 },
 "nbformat": 4,
 "nbformat_minor": 2
}
